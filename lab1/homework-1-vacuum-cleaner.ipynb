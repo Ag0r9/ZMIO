{
 "cells": [
  {
   "cell_type": "markdown",
   "metadata": {},
   "source": [
    "## Zaawansowane Metody Inteligencji Obliczeniowej\n",
    "# Zadanie domowe 1\n",
    "### Prowadzący: Michał Kempka, Marek Wydmuch\n",
    "### Autor: Adam Gorgoń 145278"
   ]
  },
  {
   "cell_type": "markdown",
   "metadata": {},
   "source": [
    "## Wprowadzenie\n",
    "\n",
    "Całe zadanie jest oparte o różne wersje środowiska `VacuumEnvironemnt`, które rozważaliśmy na zajęciach.\n",
    "Środowisko zaimplementowane jest w bibliotece aima3 (https://github.com/ArtificialIntelligenceToolkit/aima3),\n",
    "która zawiera kod do książki \"Artificial Intelligence: A Modern Approach\".\n",
    "\n",
    "#### Uwaga: Możesz dowolnie modyfikować elementy tego notebooka (wstawiać komórki i zmieniać kod) o ile nie napisano gdzieś inaczej."
   ]
  },
  {
   "cell_type": "code",
   "execution_count": 1,
   "metadata": {},
   "outputs": [],
   "source": [
    "# Zainstaluj bibliotekę OpenAI Gym\n",
    "# !pip install aima3"
   ]
  },
  {
   "cell_type": "code",
   "execution_count": 2,
   "metadata": {},
   "outputs": [],
   "source": [
    "# Zaimportuj wszystkie jego elementy\n",
    "import collections\n",
    "\n",
    "collections.Callable = collections.abc.Callable\n",
    "\n",
    "from aima3.agents import *"
   ]
  },
  {
   "cell_type": "markdown",
   "metadata": {},
   "source": [
    "Wszystkie używane przez nas elementy biblioteki są zaimplementowane w pliku: https://github.com/ArtificialIntelligenceToolkit/aima3/blob/master/aima3/agents.py"
   ]
  },
  {
   "cell_type": "markdown",
   "metadata": {},
   "source": [
    "# Zad. 1 - Cechy środowiska odkurzacza (1 pkt.)\n",
    "\n",
    "Wypisz cechy poniżej używanego środowiska zgodnie z klasyfikacją z wykładu 1.\n",
    "Dla ciągłości/dyskretności określ cechy osobno w stosunku do czasu, akcji i przestrzeni stanów.\n",
    "W razie wątpliwości uzasadnij swój wybór.\n",
    "\n",
    "Odpowiedź:\n",
    "* częsciowo obserwowalne\n",
    "* deterministyczne\n",
    "* statyczne\n",
    "* jednoagentowy\n",
    "* czas - ciągły\n",
    "* akcja - dyskretny\n",
    "* przestrzeń stanów - dyskretny\n",
    "\n",
    "Tip: Możesz sprawdź implementacje środowiska w pliku podanym powyżej, lub wywnioskować cechy na wykonując poniższe fragmenty kodu."
   ]
  },
  {
   "cell_type": "code",
   "execution_count": 3,
   "metadata": {},
   "outputs": [],
   "source": [
    "# Stwórz nowe środowisko świata odkurzacza\n",
    "env = TrivialVacuumEnvironment()"
   ]
  },
  {
   "cell_type": "code",
   "execution_count": 4,
   "metadata": {},
   "outputs": [
    {
     "data": {
      "text/plain": "{(0, 0): 'Clean', (1, 0): 'Dirty'}"
     },
     "execution_count": 4,
     "metadata": {},
     "output_type": "execute_result"
    }
   ],
   "source": [
    "# Sprawdź aktualny status środowiska\n",
    "env.status"
   ]
  },
  {
   "cell_type": "code",
   "execution_count": 5,
   "metadata": {},
   "outputs": [
    {
     "data": {
      "text/plain": "True"
     },
     "execution_count": 5,
     "metadata": {},
     "output_type": "execute_result"
    }
   ],
   "source": [
    "# Utwórz agenta refleksyjnego\n",
    "agent = ReflexVacuumAgent()\n",
    "agent.is_alive()"
   ]
  },
  {
   "cell_type": "code",
   "execution_count": 6,
   "metadata": {},
   "outputs": [],
   "source": [
    "# Dodaj agenta do środowiska. Owijamy go w TraceAgent'a, żeby zobaczyć co robi.\n",
    "env.add_thing(TraceAgent(agent))"
   ]
  },
  {
   "cell_type": "code",
   "execution_count": 7,
   "metadata": {},
   "outputs": [
    {
     "name": "stdout",
     "output_type": "stream",
     "text": [
      "loc (0, 0): []\n",
      "loc (1, 0): [<Agent>]\n"
     ]
    },
    {
     "data": {
      "text/plain": "(1, 0)"
     },
     "execution_count": 7,
     "metadata": {},
     "output_type": "execute_result"
    }
   ],
   "source": [
    "# Zobacz gdzie jest agent\n",
    "for loc in [loc_A, loc_B]:\n",
    "    print('loc {0}: {1}'.format(loc, env.list_things_at(loc)))\n",
    "# Lub:\n",
    "agent.location"
   ]
  },
  {
   "cell_type": "code",
   "execution_count": 8,
   "metadata": {},
   "outputs": [
    {
     "name": "stdout",
     "output_type": "stream",
     "text": [
      "<Agent> perceives ((1, 0), 'Dirty') and does Suck\n",
      "<Agent> perceives ((1, 0), 'Clean') and does Left\n",
      "<Agent> perceives ((0, 0), 'Clean') and does Right\n",
      "<Agent> perceives ((1, 0), 'Clean') and does Left\n",
      "<Agent> perceives ((0, 0), 'Clean') and does Right\n",
      "<Agent> perceives ((1, 0), 'Clean') and does Left\n",
      "<Agent> perceives ((0, 0), 'Clean') and does Right\n",
      "<Agent> perceives ((1, 0), 'Clean') and does Left\n",
      "<Agent> perceives ((0, 0), 'Clean') and does Right\n",
      "<Agent> perceives ((1, 0), 'Clean') and does Left\n"
     ]
    }
   ],
   "source": [
    "# Wykonaj 10 kroków\n",
    "env.run(10)"
   ]
  },
  {
   "cell_type": "code",
   "execution_count": 9,
   "metadata": {},
   "outputs": [
    {
     "data": {
      "text/plain": "1"
     },
     "execution_count": 9,
     "metadata": {},
     "output_type": "execute_result"
    }
   ],
   "source": [
    "# Sprawdź jak środowisko oceniło jakość agenta.\n",
    "agent.performance"
   ]
  },
  {
   "cell_type": "code",
   "execution_count": 10,
   "metadata": {},
   "outputs": [
    {
     "data": {
      "text/plain": "[(<function aima3.agents.ReflexVacuumAgent()>, -38.945),\n (<function aima3.agents.ModelBasedVacuumAgent()>, 9.05)]"
     },
     "execution_count": 10,
     "metadata": {},
     "output_type": "execute_result"
    }
   ],
   "source": [
    "# Moglibyśmy ocenić oczekiwaną jakość agenta dokładniej..., ale tylko ją oszacujemy (1000 powtórzeń).\n",
    "# Zakładamy, że symulacja trwa 50 kroków.\n",
    "\n",
    "compare_agents(TrivialVacuumEnvironment, [ReflexVacuumAgent, ModelBasedVacuumAgent], 1000, 50)"
   ]
  },
  {
   "cell_type": "markdown",
   "metadata": {},
   "source": [
    "# Zad. 2 - Cechy zmodyfikowanego środowisko odkurzacza (1 pkt).\n",
    "\n",
    "Wypisz cechy poniżej używanego środowiska zgodnie z klasyfikacją z wykładu 1.\n",
    "Dla ciągłości/dyskretności określ cechy osobno w stosunku do czasu, akcji i przestrzeni stanów.\n",
    "W razie wątpliwości uzasadnij swój wybór.\n",
    "\n",
    "Odpowiedź:\n",
    "* częsciowo obserwowalne\n",
    "* deterministyczne\n",
    "* statyczne\n",
    "* jednoagentowy\n",
    "* czas - ciągły\n",
    "* akcja - dyskretny\n",
    "* przestrzeń stanów - dyskretny"
   ]
  },
  {
   "cell_type": "code",
   "execution_count": 11,
   "metadata": {},
   "outputs": [],
   "source": [
    "# Rozszerzmy implementacje TrivialVacuumEnvironment\n",
    "\n",
    "import random\n",
    "\n",
    "\n",
    "class TrivialVacuumEnvironmentWithCats(TrivialVacuumEnvironment):\n",
    "    def __init__(self, random_dirt_prob=0.05, seed=None):\n",
    "        super(TrivialVacuumEnvironmentWithCats, self).__init__()\n",
    "        self.random = random.Random(seed)\n",
    "        self.random_dirt_prob = random_dirt_prob\n",
    "\n",
    "    def execute_action(self, agent, action):\n",
    "        \"\"\"Change agent's location and/or location's status; track performance; add dirt;\n",
    "        Score 10 for each dirt cleaned; -1 for each move.\"\"\"\n",
    "        # Same as in case of TrivialVacuumEnvironment\n",
    "        if action == 'Right':\n",
    "            agent.location = loc_B\n",
    "            agent.performance -= 1\n",
    "        elif action == 'Left':\n",
    "            agent.location = loc_A\n",
    "            agent.performance -= 1\n",
    "        elif action == 'Suck':\n",
    "            if self.status[agent.location] == 'Dirty':\n",
    "                agent.performance += 10\n",
    "            self.status[agent.location] = 'Clean'\n",
    "\n",
    "        # Cats can make either location dirty\n",
    "        for loc in [loc_A, loc_B]:\n",
    "            if self.random.random() < self.random_dirt_prob:\n",
    "                self.status[loc] = 'Dirty'"
   ]
  },
  {
   "cell_type": "code",
   "execution_count": 12,
   "metadata": {},
   "outputs": [
    {
     "data": {
      "text/plain": "[(<function aima3.agents.ReflexVacuumAgent()>, 12.645),\n (<function aima3.agents.ModelBasedVacuumAgent()>, 33.59)]"
     },
     "execution_count": 12,
     "metadata": {},
     "output_type": "execute_result"
    }
   ],
   "source": [
    "# Przetestujmy domyślnych agentów w nowym środowisku\n",
    "\n",
    "def env_factory():\n",
    "    return TrivialVacuumEnvironmentWithCats(random_dirt_prob=0.05)\n",
    "\n",
    "\n",
    "compare_agents(env_factory, [ReflexVacuumAgent, ModelBasedVacuumAgent], 1000, 50)"
   ]
  },
  {
   "cell_type": "markdown",
   "metadata": {},
   "source": [
    "# Zad. 3 - Własny program agenta (8 pkt.)\n",
    "\n",
    "Napisz program agenta, który będzie (średnio) dużo lepszy dla tego środowiska (50 kroków, z random_dirt_prob=0.05) niż ModelBaseVacuumAgent oraz ReflexVacuumAgent. Opisz działanie swojego programu, na podstawie jaki przesłanek on działa, jakbyś go zmodyfikował gdyby prawdopodobieństwo zabrudzenia pokoju (random_dirt_prob) się zmieniło?\n",
    "\n",
    "Punktacja za wynik (sprawdzarka zrobi 50000 powtórzeń):\n",
    "* \\> 41: 1 pkt.\n",
    "* \\> 42: 2 pkt.\n",
    "* \\> 43: 3 pkt.\n",
    "* \\> 44: 4 pkt.\n",
    "* \\> 45: 5 pkt.\n",
    "* \\> 46: 6 pkt.\n",
    "\n",
    "\\+ 2 pkt. za opis.\n",
    "\n",
    "#### Uwaga: nie zmieniaj nazwy klasy `MyVacuumAgent`. Nie dopisuj do komórki z klasą innego kodu. Możesz zdefiniować funkcje pomocnicze w tej samej komórce (sprawdzarka wyciągnie ze zgłoszonego notebooka wyłącznie komórkę z klasę o nazwie `MyVacuumAgent` do sprawdzenia)."
   ]
  },
  {
   "cell_type": "code",
   "execution_count": 24,
   "metadata": {},
   "outputs": [],
   "source": [
    "# Klasa MyVacuumAgent wypełniona przykładowym kodem agenta z modelem\n",
    "\n",
    "def MyVacuumAgent():\n",
    "    step = 0\n",
    "    i = 10\n",
    "\n",
    "    def program(percept):\n",
    "        # Zwróć jedną z dostępnych akcji: {'Suck', 'Right', 'Left', 'NoOP'}\n",
    "        nonlocal i, step\n",
    "        step += 1\n",
    "        location, status = percept\n",
    "        if status == 'Dirty':\n",
    "            return 'Suck'\n",
    "        elif step == 49:\n",
    "            return 'Right' if location == loc_A else 'Left'\n",
    "        elif location == loc_A and i == 0:\n",
    "            i = 10\n",
    "            return 'Right'\n",
    "        elif location == loc_B and i == 0:\n",
    "            i = 10\n",
    "            return 'Left'\n",
    "        else:\n",
    "            i -= 1\n",
    "            return 'NoOP'\n",
    "\n",
    "    return Agent(program)"
   ]
  },
  {
   "cell_type": "code",
   "execution_count": 25,
   "metadata": {},
   "outputs": [
    {
     "data": {
      "text/plain": "[(<function __main__.MyVacuumAgent()>, 45.27788)]"
     },
     "execution_count": 25,
     "metadata": {},
     "output_type": "execute_result"
    }
   ],
   "source": [
    "# Przetestuj swojego agenta\n",
    "def env_factory():\n",
    "    return TrivialVacuumEnvironmentWithCats(random_dirt_prob=0.05)\n",
    "\n",
    "\n",
    "compare_agents(env_factory, [MyVacuumAgent], 50000, 50)"
   ]
  },
  {
   "cell_type": "code",
   "execution_count": 15,
   "outputs": [
    {
     "name": "stdout",
     "output_type": "stream",
     "text": [
      "0\n",
      "[(<function MyVacuumAgent at 0x7f8fa43a4c10>, 13.052)]\n",
      "1\n",
      "[(<function MyVacuumAgent at 0x7f8fa5c67f40>, 32.592)]\n",
      "2\n",
      "[(<function MyVacuumAgent at 0x7f8fa4328550>, 39.977)]\n",
      "3\n",
      "[(<function MyVacuumAgent at 0x7f8fa43824d0>, 42.821)]\n",
      "4\n",
      "[(<function MyVacuumAgent at 0x7f8fa43a4ca0>, 43.937)]\n",
      "5\n",
      "[(<function MyVacuumAgent at 0x7f8fa5c67eb0>, 45.061)]\n",
      "6\n",
      "[(<function MyVacuumAgent at 0x7f8fa43280d0>, 45.356)]\n",
      "7\n",
      "[(<function MyVacuumAgent at 0x7f8fa43827a0>, 45.54)]\n",
      "8\n",
      "[(<function MyVacuumAgent at 0x7f8fa43a4c10>, 45.083)]\n",
      "9\n",
      "[(<function MyVacuumAgent at 0x7f8fa5c67f40>, 44.041)]\n",
      "10\n",
      "[(<function MyVacuumAgent at 0x7f8fa4328550>, 44.072)]\n",
      "11\n",
      "[(<function MyVacuumAgent at 0x7f8fa43824d0>, 42.258)]\n",
      "12\n",
      "[(<function MyVacuumAgent at 0x7f8fa43a4ca0>, 43.62)]\n",
      "13\n",
      "[(<function MyVacuumAgent at 0x7f8fa5c67eb0>, 44.95)]\n",
      "14\n",
      "[(<function MyVacuumAgent at 0x7f8fa43280d0>, 43.071)]\n",
      "15\n",
      "[(<function MyVacuumAgent at 0x7f8fa43827a0>, 39.866)]\n",
      "16\n",
      "[(<function MyVacuumAgent at 0x7f8fa43a4c10>, 40.29)]\n",
      "17\n",
      "[(<function MyVacuumAgent at 0x7f8fa5c67f40>, 41.49)]\n",
      "18\n",
      "[(<function MyVacuumAgent at 0x7f8fa4328550>, 41.62)]\n",
      "19\n",
      "[(<function MyVacuumAgent at 0x7f8fa43824d0>, 41.511)]\n",
      "20\n",
      "[(<function MyVacuumAgent at 0x7f8fa43a4ca0>, 42.869)]\n",
      "21\n",
      "[(<function MyVacuumAgent at 0x7f8fa5c67eb0>, 40.789)]\n",
      "22\n",
      "[(<function MyVacuumAgent at 0x7f8fa43280d0>, 39.786)]\n",
      "23\n",
      "[(<function MyVacuumAgent at 0x7f8fa43827a0>, 36.115)]\n",
      "24\n",
      "[(<function MyVacuumAgent at 0x7f8fa43a4c10>, 36.863)]\n",
      "25\n",
      "[(<function MyVacuumAgent at 0x7f8fa5c67f40>, 36.44)]\n",
      "26\n",
      "[(<function MyVacuumAgent at 0x7f8fa4328550>, 35.84)]\n",
      "27\n",
      "[(<function MyVacuumAgent at 0x7f8fa43824d0>, 37.29)]\n",
      "28\n",
      "[(<function MyVacuumAgent at 0x7f8fa43a4ca0>, 36.89)]\n",
      "29\n",
      "[(<function MyVacuumAgent at 0x7f8fa5c67eb0>, 36.49)]\n",
      "30\n",
      "[(<function MyVacuumAgent at 0x7f8fa43280d0>, 36.72)]\n",
      "31\n",
      "[(<function MyVacuumAgent at 0x7f8fa43827a0>, 37.25)]\n",
      "32\n",
      "[(<function MyVacuumAgent at 0x7f8fa43a4c10>, 36.4)]\n",
      "33\n",
      "[(<function MyVacuumAgent at 0x7f8fa5c67f40>, 36.52)]\n",
      "34\n",
      "[(<function MyVacuumAgent at 0x7f8fa4328550>, 37.73)]\n",
      "35\n",
      "[(<function MyVacuumAgent at 0x7f8fa43824d0>, 37.29)]\n",
      "36\n",
      "[(<function MyVacuumAgent at 0x7f8fa43a4ca0>, 36.97)]\n",
      "37\n",
      "[(<function MyVacuumAgent at 0x7f8fa5c67eb0>, 36.78)]\n",
      "38\n",
      "[(<function MyVacuumAgent at 0x7f8fa43280d0>, 37.34)]\n",
      "39\n",
      "[(<function MyVacuumAgent at 0x7f8fa43827a0>, 38.31)]\n",
      "40\n",
      "[(<function MyVacuumAgent at 0x7f8fa43a4c10>, 37.51)]\n",
      "41\n",
      "[(<function MyVacuumAgent at 0x7f8fa5c67f40>, 37.534)]\n",
      "42\n",
      "[(<function MyVacuumAgent at 0x7f8fa4328550>, 36.974)]\n",
      "43\n",
      "[(<function MyVacuumAgent at 0x7f8fa43824d0>, 38.599)]\n",
      "44\n",
      "[(<function MyVacuumAgent at 0x7f8fa43a4ca0>, 35.985)]\n",
      "45\n",
      "[(<function MyVacuumAgent at 0x7f8fa5c67eb0>, 35.367)]\n",
      "46\n",
      "[(<function MyVacuumAgent at 0x7f8fa43280d0>, 32.329)]\n",
      "47\n",
      "[(<function MyVacuumAgent at 0x7f8fa43827a0>, 30.331)]\n",
      "48\n",
      "[(<function MyVacuumAgent at 0x7f8fa43a4c10>, 30.105)]\n",
      "49\n",
      "[(<function MyVacuumAgent at 0x7f8fa5c67f40>, 28.919)]\n"
     ]
    }
   ],
   "source": [
    "for val in range(50):\n",
    "    print(val)\n",
    "    def MyVacuumAgent():\n",
    "        i = val\n",
    "\n",
    "        def program(percept):\n",
    "            # Zwróć jedną z dostępnych akcji: {'Suck', 'Right', 'Left', 'NoOP'}\n",
    "            nonlocal i\n",
    "            location, status = percept\n",
    "            if status == 'Dirty':\n",
    "                return 'Suck'\n",
    "            elif location == loc_A and i == 0:\n",
    "                i = val\n",
    "                return 'Right'\n",
    "            elif location == loc_B and i == 0:\n",
    "                i = val\n",
    "                return 'Left'\n",
    "            else:\n",
    "                i -= 1\n",
    "                return 'NoOP'\n",
    "\n",
    "        return Agent(program)\n",
    "\n",
    "    def env_factory():\n",
    "        return TrivialVacuumEnvironmentWithCats(random_dirt_prob=0.05)\n",
    "\n",
    "    print(compare_agents(env_factory, [MyVacuumAgent], 1000, 50))"
   ],
   "metadata": {
    "collapsed": false
   }
  }
 ],
 "metadata": {
  "kernelspec": {
   "display_name": "Python 3",
   "language": "python",
   "name": "python3"
  },
  "language_info": {
   "codemirror_mode": {
    "name": "ipython",
    "version": 3
   },
   "file_extension": ".py",
   "mimetype": "text/x-python",
   "name": "python",
   "nbconvert_exporter": "python",
   "pygments_lexer": "ipython3",
   "version": "3.8.5"
  }
 },
 "nbformat": 4,
 "nbformat_minor": 4
}
