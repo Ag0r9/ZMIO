{
 "cells": [
  {
   "cell_type": "markdown",
   "metadata": {},
   "source": [
    "## Zaawansowane Metody Inteligencji Obliczeniowej\n",
    "# Zadanie domowe 1\n",
    "### Prowadzący: Michał Kempka, Marek Wydmuch\n",
    "### Autor: Adam Gorgoń 145278"
   ]
  },
  {
   "cell_type": "markdown",
   "metadata": {},
   "source": [
    "## Wprowadzenie\n",
    "\n",
    "Całe zadanie jest oparte o różne wersje środowiska `VacuumEnvironemnt`, które rozważaliśmy na zajęciach.\n",
    "Środowisko zaimplementowane jest w bibliotece aima3 (https://github.com/ArtificialIntelligenceToolkit/aima3),\n",
    "która zawiera kod do książki \"Artificial Intelligence: A Modern Approach\".\n",
    "\n",
    "#### Uwaga: Możesz dowolnie modyfikować elementy tego notebooka (wstawiać komórki i zmieniać kod) o ile nie napisano gdzieś inaczej."
   ]
  },
  {
   "cell_type": "code",
   "execution_count": 1,
   "metadata": {},
   "outputs": [],
   "source": [
    "# Zainstaluj bibliotekę OpenAI Gym\n",
    "# !pip install aima3"
   ]
  },
  {
   "cell_type": "code",
   "execution_count": 2,
   "metadata": {},
   "outputs": [],
   "source": [
    "# Zaimportuj wszystkie jego elementy\n",
    "import collections\n",
    "\n",
    "collections.Callable = collections.abc.Callable\n",
    "\n",
    "from aima3.agents import *"
   ]
  },
  {
   "cell_type": "markdown",
   "metadata": {},
   "source": [
    "Wszystkie używane przez nas elementy biblioteki są zaimplementowane w pliku: https://github.com/ArtificialIntelligenceToolkit/aima3/blob/master/aima3/agents.py"
   ]
  },
  {
   "cell_type": "markdown",
   "metadata": {},
   "source": [
    "# Zad. 1 - Cechy środowiska odkurzacza (1 pkt.)\n",
    "\n",
    "Wypisz cechy poniżej używanego środowiska zgodnie z klasyfikacją z wykładu 1.\n",
    "Dla ciągłości/dyskretności określ cechy osobno w stosunku do czasu, akcji i przestrzeni stanów.\n",
    "W razie wątpliwości uzasadnij swój wybór.\n",
    "\n",
    "Odpowiedź:\n",
    "* częsciowo obserwowalne\n",
    "* deterministyczne\n",
    "* statyczne\n",
    "* jednoagentowy\n",
    "* czas - ciągły\n",
    "* akcja - dyskretny\n",
    "* przestrzeń stanów - dyskretny\n",
    "\n",
    "Tip: Możesz sprawdź implementacje środowiska w pliku podanym powyżej, lub wywnioskować cechy na wykonując poniższe fragmenty kodu."
   ]
  },
  {
   "cell_type": "code",
   "execution_count": 3,
   "metadata": {},
   "outputs": [],
   "source": [
    "# Stwórz nowe środowisko świata odkurzacza\n",
    "env = TrivialVacuumEnvironment()"
   ]
  },
  {
   "cell_type": "code",
   "execution_count": 4,
   "metadata": {},
   "outputs": [
    {
     "data": {
      "text/plain": "{(0, 0): 'Clean', (1, 0): 'Dirty'}"
     },
     "execution_count": 4,
     "metadata": {},
     "output_type": "execute_result"
    }
   ],
   "source": [
    "# Sprawdź aktualny status środowiska\n",
    "env.status"
   ]
  },
  {
   "cell_type": "code",
   "execution_count": 5,
   "metadata": {},
   "outputs": [
    {
     "data": {
      "text/plain": "True"
     },
     "execution_count": 5,
     "metadata": {},
     "output_type": "execute_result"
    }
   ],
   "source": [
    "# Utwórz agenta refleksyjnego\n",
    "agent = ReflexVacuumAgent()\n",
    "agent.is_alive()"
   ]
  },
  {
   "cell_type": "code",
   "execution_count": 6,
   "metadata": {},
   "outputs": [],
   "source": [
    "# Dodaj agenta do środowiska. Owijamy go w TraceAgent'a, żeby zobaczyć co robi.\n",
    "env.add_thing(TraceAgent(agent))"
   ]
  },
  {
   "cell_type": "code",
   "execution_count": 7,
   "metadata": {},
   "outputs": [
    {
     "name": "stdout",
     "output_type": "stream",
     "text": [
      "loc (0, 0): [<Agent>]\n",
      "loc (1, 0): []\n"
     ]
    },
    {
     "data": {
      "text/plain": "(0, 0)"
     },
     "execution_count": 7,
     "metadata": {},
     "output_type": "execute_result"
    }
   ],
   "source": [
    "# Zobacz gdzie jest agent\n",
    "for loc in [loc_A, loc_B]:\n",
    "    print('loc {0}: {1}'.format(loc, env.list_things_at(loc)))\n",
    "# Lub:\n",
    "agent.location"
   ]
  },
  {
   "cell_type": "code",
   "execution_count": 8,
   "metadata": {},
   "outputs": [
    {
     "name": "stdout",
     "output_type": "stream",
     "text": [
      "<Agent> perceives ((0, 0), 'Clean') and does Right\n",
      "<Agent> perceives ((1, 0), 'Dirty') and does Suck\n",
      "<Agent> perceives ((1, 0), 'Clean') and does Left\n",
      "<Agent> perceives ((0, 0), 'Clean') and does Right\n",
      "<Agent> perceives ((1, 0), 'Clean') and does Left\n",
      "<Agent> perceives ((0, 0), 'Clean') and does Right\n",
      "<Agent> perceives ((1, 0), 'Clean') and does Left\n",
      "<Agent> perceives ((0, 0), 'Clean') and does Right\n",
      "<Agent> perceives ((1, 0), 'Clean') and does Left\n",
      "<Agent> perceives ((0, 0), 'Clean') and does Right\n"
     ]
    }
   ],
   "source": [
    "# Wykonaj 10 kroków\n",
    "env.run(10)"
   ]
  },
  {
   "cell_type": "code",
   "execution_count": 9,
   "metadata": {},
   "outputs": [
    {
     "data": {
      "text/plain": "1"
     },
     "execution_count": 9,
     "metadata": {},
     "output_type": "execute_result"
    }
   ],
   "source": [
    "# Sprawdź jak środowisko oceniło jakość agenta.\n",
    "agent.performance"
   ]
  },
  {
   "cell_type": "code",
   "execution_count": 10,
   "metadata": {},
   "outputs": [
    {
     "data": {
      "text/plain": "[(<function aima3.agents.ReflexVacuumAgent()>, -39.352),\n (<function aima3.agents.ModelBasedVacuumAgent()>, 8.68)]"
     },
     "execution_count": 10,
     "metadata": {},
     "output_type": "execute_result"
    }
   ],
   "source": [
    "# Moglibyśmy ocenić oczekiwaną jakość agenta dokładniej..., ale tylko ją oszacujemy (1000 powtórzeń).\n",
    "# Zakładamy, że symulacja trwa 50 kroków.\n",
    "\n",
    "compare_agents(TrivialVacuumEnvironment, [ReflexVacuumAgent, ModelBasedVacuumAgent], 1000, 50)"
   ]
  },
  {
   "cell_type": "markdown",
   "metadata": {},
   "source": [
    "# Zad. 2 - Cechy zmodyfikowanego środowisko odkurzacza (1 pkt).\n",
    "\n",
    "Wypisz cechy poniżej używanego środowiska zgodnie z klasyfikacją z wykładu 1.\n",
    "Dla ciągłości/dyskretności określ cechy osobno w stosunku do czasu, akcji i przestrzeni stanów.\n",
    "W razie wątpliwości uzasadnij swój wybór.\n",
    "\n",
    "Odpowiedź:\n",
    "* częsciowo obserwowalne\n",
    "* stochastyczne\n",
    "* statyczne\n",
    "* jednoagentowy\n",
    "* czas - ciągły\n",
    "* akcja - dyskretny\n",
    "* przestrzeń stanów - dyskretny"
   ]
  },
  {
   "cell_type": "code",
   "execution_count": 11,
   "metadata": {},
   "outputs": [],
   "source": [
    "# Rozszerzmy implementacje TrivialVacuumEnvironment\n",
    "\n",
    "import random\n",
    "\n",
    "\n",
    "class TrivialVacuumEnvironmentWithCats(TrivialVacuumEnvironment):\n",
    "    def __init__(self, random_dirt_prob=0.05, seed=None):\n",
    "        super(TrivialVacuumEnvironmentWithCats, self).__init__()\n",
    "        self.random = random.Random(seed)\n",
    "        self.random_dirt_prob = random_dirt_prob\n",
    "\n",
    "    def execute_action(self, agent, action):\n",
    "        \"\"\"Change agent's location and/or location's status; track performance; add dirt;\n",
    "        Score 10 for each dirt cleaned; -1 for each move.\"\"\"\n",
    "        # Same as in case of TrivialVacuumEnvironment\n",
    "        if action == 'Right':\n",
    "            agent.location = loc_B\n",
    "            agent.performance -= 1\n",
    "        elif action == 'Left':\n",
    "            agent.location = loc_A\n",
    "            agent.performance -= 1\n",
    "        elif action == 'Suck':\n",
    "            if self.status[agent.location] == 'Dirty':\n",
    "                agent.performance += 10\n",
    "            self.status[agent.location] = 'Clean'\n",
    "\n",
    "        # Cats can make either location dirty\n",
    "        for loc in [loc_A, loc_B]:\n",
    "            if self.random.random() < self.random_dirt_prob:\n",
    "                self.status[loc] = 'Dirty'"
   ]
  },
  {
   "cell_type": "code",
   "execution_count": 12,
   "metadata": {},
   "outputs": [
    {
     "data": {
      "text/plain": "[(<function aima3.agents.ReflexVacuumAgent()>, 12.029),\n (<function aima3.agents.ModelBasedVacuumAgent()>, 32.99)]"
     },
     "execution_count": 12,
     "metadata": {},
     "output_type": "execute_result"
    }
   ],
   "source": [
    "# Przetestujmy domyślnych agentów w nowym środowisku\n",
    "\n",
    "def env_factory():\n",
    "    return TrivialVacuumEnvironmentWithCats(random_dirt_prob=0.05)\n",
    "\n",
    "\n",
    "compare_agents(env_factory, [ReflexVacuumAgent, ModelBasedVacuumAgent], 1000, 50)"
   ]
  },
  {
   "cell_type": "markdown",
   "metadata": {},
   "source": [
    "# Zad. 3 - Własny program agenta (8 pkt.)\n",
    "\n",
    "Napisz program agenta, który będzie (średnio) dużo lepszy dla tego środowiska (50 kroków, z random_dirt_prob=0.05) niż ModelBaseVacuumAgent oraz ReflexVacuumAgent. Opisz działanie swojego programu, na podstawie jaki przesłanek on działa, jakbyś go zmodyfikował gdyby prawdopodobieństwo zabrudzenia pokoju (random_dirt_prob) się zmieniło?\n",
    "\n",
    "**Agent czeka 9 kroków w jednym pokoju, a następnie się przemieszcza. W przed ostatnim ruchu zawsze sprawdza pokój w którym go nie ma. Liczba 9 została wybrana podczas testowania różnych wartości. W obecnej sytuacji najbardziej efektywna jest sytuacja, kiedy szansa na to, że drugi pokój jest zabrudzony wynosi około 60% ($(1-0.05)^{10}\\approx 0.6$). Jeśli pradopodobieństwo zabrudzenia pokoju by się zmieniło, to bym zmienił czas oczekiwania odrwotnie proporcjonalnie do wartości prawdopodobieństwa zabrudzenia.**\n",
    "\n",
    "Punktacja za wynik (sprawdzarka zrobi 50000 powtórzeń):\n",
    "* \\> 41: 1 pkt.\n",
    "* \\> 42: 2 pkt.\n",
    "* \\> 43: 3 pkt.\n",
    "* \\> 44: 4 pkt.\n",
    "* \\> 45: 5 pkt.\n",
    "* \\> 46: 6 pkt.\n",
    "\n",
    "\\+ 2 pkt. za opis.\n",
    "\n",
    "#### Uwaga: nie zmieniaj nazwy klasy `MyVacuumAgent`. Nie dopisuj do komórki z klasą innego kodu. Możesz zdefiniować funkcje pomocnicze w tej samej komórce (sprawdzarka wyciągnie ze zgłoszonego notebooka wyłącznie komórkę z klasę o nazwie `MyVacuumAgent` do sprawdzenia)."
   ]
  },
  {
   "cell_type": "code",
   "execution_count": 13,
   "metadata": {},
   "outputs": [],
   "source": [
    "# Klasa MyVacuumAgent wypełniona przykładowym kodem agenta z modelem\n",
    "\n",
    "def MyVacuumAgent():\n",
    "    step = 0\n",
    "    i = 9\n",
    "\n",
    "    def program(percept):\n",
    "        # Zwróć jedną z dostępnych akcji: {'Suck', 'Right', 'Left', 'NoOP'}\n",
    "        nonlocal i, step\n",
    "        step += 1\n",
    "        location, status = percept\n",
    "        if status == 'Dirty':\n",
    "            i -= 1\n",
    "            return 'Suck'\n",
    "        elif step == 49:\n",
    "            return 'Right' if location == loc_A else 'Left'\n",
    "        elif location == loc_A and i == 0:\n",
    "            i = 9\n",
    "            return 'Right'\n",
    "        elif location == loc_B and i == 0:\n",
    "            i = 9\n",
    "            return 'Left'\n",
    "        else:\n",
    "            i -= 1\n",
    "            return 'NoOP'\n",
    "\n",
    "    return Agent(program)"
   ]
  },
  {
   "cell_type": "code",
   "execution_count": 14,
   "metadata": {},
   "outputs": [
    {
     "data": {
      "text/plain": "[(<function __main__.MyVacuumAgent()>, 45.02932)]"
     },
     "execution_count": 14,
     "metadata": {},
     "output_type": "execute_result"
    }
   ],
   "source": [
    "# Przetestuj swojego agenta\n",
    "def env_factory():\n",
    "    return TrivialVacuumEnvironmentWithCats(random_dirt_prob=0.05)\n",
    "\n",
    "\n",
    "compare_agents(env_factory, [MyVacuumAgent], 50000, 50)"
   ]
  }
 ],
 "metadata": {
  "kernelspec": {
   "display_name": "Python 3",
   "language": "python",
   "name": "python3"
  },
  "language_info": {
   "codemirror_mode": {
    "name": "ipython",
    "version": 3
   },
   "file_extension": ".py",
   "mimetype": "text/x-python",
   "name": "python",
   "nbconvert_exporter": "python",
   "pygments_lexer": "ipython3",
   "version": "3.8.5"
  }
 },
 "nbformat": 4,
 "nbformat_minor": 4
}
