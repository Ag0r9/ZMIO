{
 "cells": [
  {
   "cell_type": "markdown",
   "metadata": {},
   "source": [
    "## Zaawansowane Metody Inteligencji Obliczeniowej\n",
    "# Zadanie domowe 1\n",
    "### Prowadzący: Michał Kempka, Marek Wydmuch\n",
    "### Autor: Adam Gorgoń 145278"
   ]
  },
  {
   "cell_type": "markdown",
   "metadata": {},
   "source": [
    "## Wprowadzenie\n",
    "\n",
    "Całe zadanie jest oparte o różne wersje środowiska `VacuumEnvironemnt`, które rozważaliśmy na zajęciach.\n",
    "Środowisko zaimplementowane jest w bibliotece aima3 (https://github.com/ArtificialIntelligenceToolkit/aima3),\n",
    "która zawiera kod do książki \"Artificial Intelligence: A Modern Approach\".\n",
    "\n",
    "#### Uwaga: Możesz dowolnie modyfikować elementy tego notebooka (wstawiać komórki i zmieniać kod) o ile nie napisano gdzieś inaczej."
   ]
  },
  {
   "cell_type": "code",
   "execution_count": 1,
   "metadata": {},
   "outputs": [],
   "source": [
    "# Zainstaluj bibliotekę OpenAI Gym\n",
    "# !pip install aima3"
   ]
  },
  {
   "cell_type": "code",
   "execution_count": 2,
   "metadata": {},
   "outputs": [],
   "source": [
    "# Zaimportuj wszystkie jego elementy\n",
    "import collections\n",
    "\n",
    "collections.Callable = collections.abc.Callable\n",
    "\n",
    "from aima3.agents import *"
   ]
  },
  {
   "cell_type": "markdown",
   "metadata": {},
   "source": [
    "Wszystkie używane przez nas elementy biblioteki są zaimplementowane w pliku: https://github.com/ArtificialIntelligenceToolkit/aima3/blob/master/aima3/agents.py"
   ]
  },
  {
   "cell_type": "markdown",
   "metadata": {},
   "source": [
    "# Zad. 1 - Cechy środowiska odkurzacza (1 pkt.)\n",
    "\n",
    "Wypisz cechy poniżej używanego środowiska zgodnie z klasyfikacją z wykładu 1.\n",
    "Dla ciągłości/dyskretności określ cechy osobno w stosunku do czasu, akcji i przestrzeni stanów.\n",
    "W razie wątpliwości uzasadnij swój wybór.\n",
    "\n",
    "Odpowiedź:\n",
    "* częsciowo obserwowalne\n",
    "* deterministyczne\n",
    "* statyczne\n",
    "* jednoagentowy\n",
    "* czas - ciągły\n",
    "* akcja - dyskretny\n",
    "* przestrzeń stanów - dyskretny\n",
    "\n",
    "Tip: Możesz sprawdź implementacje środowiska w pliku podanym powyżej, lub wywnioskować cechy na wykonując poniższe fragmenty kodu."
   ]
  },
  {
   "cell_type": "code",
   "execution_count": 3,
   "metadata": {},
   "outputs": [],
   "source": [
    "# Stwórz nowe środowisko świata odkurzacza\n",
    "env = TrivialVacuumEnvironment()"
   ]
  },
  {
   "cell_type": "code",
   "execution_count": 4,
   "metadata": {},
   "outputs": [
    {
     "data": {
      "text/plain": "{(0, 0): 'Dirty', (1, 0): 'Dirty'}"
     },
     "execution_count": 4,
     "metadata": {},
     "output_type": "execute_result"
    }
   ],
   "source": [
    "# Sprawdź aktualny status środowiska\n",
    "env.status"
   ]
  },
  {
   "cell_type": "code",
   "execution_count": 5,
   "metadata": {},
   "outputs": [
    {
     "data": {
      "text/plain": "True"
     },
     "execution_count": 5,
     "metadata": {},
     "output_type": "execute_result"
    }
   ],
   "source": [
    "# Utwórz agenta refleksyjnego\n",
    "agent = ReflexVacuumAgent()\n",
    "agent.is_alive()"
   ]
  },
  {
   "cell_type": "code",
   "execution_count": 6,
   "metadata": {},
   "outputs": [],
   "source": [
    "# Dodaj agenta do środowiska. Owijamy go w TraceAgent'a, żeby zobaczyć co robi.\n",
    "env.add_thing(TraceAgent(agent))"
   ]
  },
  {
   "cell_type": "code",
   "execution_count": 7,
   "metadata": {},
   "outputs": [
    {
     "name": "stdout",
     "output_type": "stream",
     "text": [
      "loc (0, 0): [<Agent>]\n",
      "loc (1, 0): []\n"
     ]
    },
    {
     "data": {
      "text/plain": "(0, 0)"
     },
     "execution_count": 7,
     "metadata": {},
     "output_type": "execute_result"
    }
   ],
   "source": [
    "# Zobacz gdzie jest agent\n",
    "for loc in [loc_A, loc_B]:\n",
    "    print('loc {0}: {1}'.format(loc, env.list_things_at(loc)))\n",
    "# Lub:\n",
    "agent.location"
   ]
  },
  {
   "cell_type": "code",
   "execution_count": 8,
   "metadata": {},
   "outputs": [
    {
     "name": "stdout",
     "output_type": "stream",
     "text": [
      "<Agent> perceives ((0, 0), 'Dirty') and does Suck\n",
      "<Agent> perceives ((0, 0), 'Clean') and does Right\n",
      "<Agent> perceives ((1, 0), 'Dirty') and does Suck\n",
      "<Agent> perceives ((1, 0), 'Clean') and does Left\n",
      "<Agent> perceives ((0, 0), 'Clean') and does Right\n",
      "<Agent> perceives ((1, 0), 'Clean') and does Left\n",
      "<Agent> perceives ((0, 0), 'Clean') and does Right\n",
      "<Agent> perceives ((1, 0), 'Clean') and does Left\n",
      "<Agent> perceives ((0, 0), 'Clean') and does Right\n",
      "<Agent> perceives ((1, 0), 'Clean') and does Left\n"
     ]
    }
   ],
   "source": [
    "# Wykonaj 10 kroków\n",
    "env.run(10)"
   ]
  },
  {
   "cell_type": "code",
   "execution_count": 9,
   "metadata": {},
   "outputs": [
    {
     "data": {
      "text/plain": "12"
     },
     "execution_count": 9,
     "metadata": {},
     "output_type": "execute_result"
    }
   ],
   "source": [
    "# Sprawdź jak środowisko oceniło jakość agenta.\n",
    "agent.performance"
   ]
  },
  {
   "cell_type": "code",
   "execution_count": 10,
   "metadata": {},
   "outputs": [
    {
     "data": {
      "text/plain": "[(<function aima3.agents.ReflexVacuumAgent()>, -38.78),\n (<function aima3.agents.ModelBasedVacuumAgent()>, 9.2)]"
     },
     "execution_count": 10,
     "metadata": {},
     "output_type": "execute_result"
    }
   ],
   "source": [
    "# Moglibyśmy ocenić oczekiwaną jakość agenta dokładniej..., ale tylko ją oszacujemy (1000 powtórzeń).\n",
    "# Zakładamy, że symulacja trwa 50 kroków.\n",
    "\n",
    "compare_agents(TrivialVacuumEnvironment, [ReflexVacuumAgent, ModelBasedVacuumAgent], 1000, 50)"
   ]
  },
  {
   "cell_type": "markdown",
   "metadata": {},
   "source": [
    "# Zad. 2 - Cechy zmodyfikowanego środowisko odkurzacza (1 pkt).\n",
    "\n",
    "Wypisz cechy poniżej używanego środowiska zgodnie z klasyfikacją z wykładu 1.\n",
    "Dla ciągłości/dyskretności określ cechy osobno w stosunku do czasu, akcji i przestrzeni stanów.\n",
    "W razie wątpliwości uzasadnij swój wybór.\n",
    "\n",
    "Odpowiedź:\n",
    "* częsciowo obserwowalne\n",
    "* stochastyczne\n",
    "* statyczne\n",
    "* jednoagentowy\n",
    "* czas - ciągły\n",
    "* akcja - dyskretny\n",
    "* przestrzeń stanów - dyskretny"
   ]
  },
  {
   "cell_type": "code",
   "execution_count": 11,
   "metadata": {},
   "outputs": [],
   "source": [
    "# Rozszerzmy implementacje TrivialVacuumEnvironment\n",
    "\n",
    "import random\n",
    "\n",
    "\n",
    "class TrivialVacuumEnvironmentWithCats(TrivialVacuumEnvironment):\n",
    "    def __init__(self, random_dirt_prob=0.05, seed=None):\n",
    "        super(TrivialVacuumEnvironmentWithCats, self).__init__()\n",
    "        self.random = random.Random(seed)\n",
    "        self.random_dirt_prob = random_dirt_prob\n",
    "\n",
    "    def execute_action(self, agent, action):\n",
    "        \"\"\"Change agent's location and/or location's status; track performance; add dirt;\n",
    "        Score 10 for each dirt cleaned; -1 for each move.\"\"\"\n",
    "        # Same as in case of TrivialVacuumEnvironment\n",
    "        if action == 'Right':\n",
    "            agent.location = loc_B\n",
    "            agent.performance -= 1\n",
    "        elif action == 'Left':\n",
    "            agent.location = loc_A\n",
    "            agent.performance -= 1\n",
    "        elif action == 'Suck':\n",
    "            if self.status[agent.location] == 'Dirty':\n",
    "                agent.performance += 10\n",
    "            self.status[agent.location] = 'Clean'\n",
    "\n",
    "        # Cats can make either location dirty\n",
    "        for loc in [loc_A, loc_B]:\n",
    "            if self.random.random() < self.random_dirt_prob:\n",
    "                self.status[loc] = 'Dirty'"
   ]
  },
  {
   "cell_type": "code",
   "execution_count": 12,
   "metadata": {},
   "outputs": [
    {
     "data": {
      "text/plain": "[(<function aima3.agents.ReflexVacuumAgent()>, 13.052),\n (<function aima3.agents.ModelBasedVacuumAgent()>, 33.5)]"
     },
     "execution_count": 12,
     "metadata": {},
     "output_type": "execute_result"
    }
   ],
   "source": [
    "# Przetestujmy domyślnych agentów w nowym środowisku\n",
    "\n",
    "def env_factory():\n",
    "    return TrivialVacuumEnvironmentWithCats(random_dirt_prob=0.05)\n",
    "\n",
    "\n",
    "compare_agents(env_factory, [ReflexVacuumAgent, ModelBasedVacuumAgent], 1000, 50)"
   ]
  },
  {
   "cell_type": "markdown",
   "metadata": {},
   "source": [
    "# Zad. 3 - Własny program agenta (8 pkt.)\n",
    "\n",
    "Napisz program agenta, który będzie (średnio) dużo lepszy dla tego środowiska (50 kroków, z random_dirt_prob=0.05) niż ModelBaseVacuumAgent oraz ReflexVacuumAgent. Opisz działanie swojego programu, na podstawie jaki przesłanek on działa, jakbyś go zmodyfikował gdyby prawdopodobieństwo zabrudzenia pokoju (random_dirt_prob) się zmieniło?\n",
    "\n",
    "**Po 10 krokach bezczynności agent zmienia pokój oraz w przed ostatnim ruchu sprawdza pokój w którym go nie ma. Jeśli pradopodobieństwo zabrudzenia pokoju by się zmieniło, to bym zmienił czas oczekiwania odrwotnie proporcjonalnie do wartości prawdopodobieństwa zabrudzenia.**\n",
    "\n",
    "Punktacja za wynik (sprawdzarka zrobi 50000 powtórzeń):\n",
    "* \\> 41: 1 pkt.\n",
    "* \\> 42: 2 pkt.\n",
    "* \\> 43: 3 pkt.\n",
    "* \\> 44: 4 pkt.\n",
    "* \\> 45: 5 pkt.\n",
    "* \\> 46: 6 pkt.\n",
    "\n",
    "\\+ 2 pkt. za opis.\n",
    "\n",
    "#### Uwaga: nie zmieniaj nazwy klasy `MyVacuumAgent`. Nie dopisuj do komórki z klasą innego kodu. Możesz zdefiniować funkcje pomocnicze w tej samej komórce (sprawdzarka wyciągnie ze zgłoszonego notebooka wyłącznie komórkę z klasę o nazwie `MyVacuumAgent` do sprawdzenia)."
   ]
  },
  {
   "cell_type": "code",
   "execution_count": 18,
   "metadata": {},
   "outputs": [],
   "source": [
    "# Klasa MyVacuumAgent wypełniona przykładowym kodem agenta z modelem\n",
    "\n",
    "def MyVacuumAgent():\n",
    "    step = 0\n",
    "    i =9\n",
    "\n",
    "    def program(percept):\n",
    "        # Zwróć jedną z dostępnych akcji: {'Suck', 'Right', 'Left', 'NoOP'}\n",
    "        nonlocal i, step\n",
    "        step += 1\n",
    "        location, status = percept\n",
    "        if status == 'Dirty':\n",
    "            i -= 1\n",
    "            return 'Suck'\n",
    "        elif step == 49:\n",
    "            return 'Right' if location == loc_A else 'Left'\n",
    "        elif location == loc_A and i == 0:\n",
    "            i = 9\n",
    "            return 'Right'\n",
    "        elif location == loc_B and i == 0:\n",
    "            i = 9\n",
    "            return 'Left'\n",
    "        else:\n",
    "            i -= 1\n",
    "            return 'NoOP'\n",
    "\n",
    "    return Agent(program)"
   ]
  },
  {
   "cell_type": "code",
   "execution_count": 19,
   "metadata": {},
   "outputs": [
    {
     "data": {
      "text/plain": "[(<function __main__.MyVacuumAgent()>, 45.00748)]"
     },
     "execution_count": 19,
     "metadata": {},
     "output_type": "execute_result"
    }
   ],
   "source": [
    "# Przetestuj swojego agenta\n",
    "def env_factory():\n",
    "    return TrivialVacuumEnvironmentWithCats(random_dirt_prob=0.05)\n",
    "\n",
    "\n",
    "compare_agents(env_factory, [MyVacuumAgent], 50000, 50)"
   ]
  },
  {
   "cell_type": "code",
   "execution_count": 21,
   "outputs": [
    {
     "name": "stdout",
     "output_type": "stream",
     "text": [
      "0\n",
      "[(<function MyVacuumAgent at 0x7fd82079af80>, 12.3392)]\n",
      "1\n",
      "[(<function MyVacuumAgent at 0x7fd8292d70a0>, 33.4902)]\n",
      "2\n",
      "[(<function MyVacuumAgent at 0x7fd8206d52d0>, 40.07334)]\n",
      "3\n",
      "[(<function MyVacuumAgent at 0x7fd820559ab0>, 42.7482)]\n",
      "4\n",
      "[(<function MyVacuumAgent at 0x7fd820559bd0>, 44.45316)]\n",
      "5\n",
      "[(<function MyVacuumAgent at 0x7fd8292d70a0>, 45.08842)]\n",
      "6\n",
      "[(<function MyVacuumAgent at 0x7fd8205155a0>, 45.36358)]\n",
      "7\n",
      "[(<function MyVacuumAgent at 0x7fd82055a710>, 45.63912)]\n",
      "8\n",
      "[(<function MyVacuumAgent at 0x7fd820559bd0>, 45.49252)]\n",
      "9\n",
      "[(<function MyVacuumAgent at 0x7fd8292d75b0>, 45.59162)]\n",
      "10\n",
      "[(<function MyVacuumAgent at 0x7fd82079af80>, 45.15296)]\n",
      "11\n",
      "[(<function MyVacuumAgent at 0x7fd820559ab0>, 45.28088)]\n",
      "12\n",
      "[(<function MyVacuumAgent at 0x7fd82055a710>, 44.96612)]\n",
      "13\n",
      "[(<function MyVacuumAgent at 0x7fd82079af80>, 44.52282)]\n",
      "14\n",
      "[(<function MyVacuumAgent at 0x7fd8206d52d0>, 44.16324)]\n",
      "15\n"
     ]
    },
    {
     "ename": "KeyboardInterrupt",
     "evalue": "",
     "output_type": "error",
     "traceback": [
      "\u001B[0;31m---------------------------------------------------------------------------\u001B[0m",
      "\u001B[0;31mKeyboardInterrupt\u001B[0m                         Traceback (most recent call last)",
      "Cell \u001B[0;32mIn[21], line 37\u001B[0m\n\u001B[1;32m     33\u001B[0m \u001B[38;5;28;01mdef\u001B[39;00m \u001B[38;5;21menv_factory\u001B[39m():\n\u001B[1;32m     34\u001B[0m     \u001B[38;5;28;01mreturn\u001B[39;00m TrivialVacuumEnvironmentWithCats(random_dirt_prob\u001B[38;5;241m=\u001B[39m\u001B[38;5;241m0.05\u001B[39m)\n\u001B[0;32m---> 37\u001B[0m \u001B[38;5;28mprint\u001B[39m(\u001B[43mcompare_agents\u001B[49m\u001B[43m(\u001B[49m\u001B[43menv_factory\u001B[49m\u001B[43m,\u001B[49m\u001B[43m \u001B[49m\u001B[43m[\u001B[49m\u001B[43mMyVacuumAgent\u001B[49m\u001B[43m]\u001B[49m\u001B[43m,\u001B[49m\u001B[43m \u001B[49m\u001B[38;5;241;43m50000\u001B[39;49m\u001B[43m,\u001B[49m\u001B[43m \u001B[49m\u001B[38;5;241;43m50\u001B[39;49m\u001B[43m)\u001B[49m)\n",
      "File \u001B[0;32m~/.cache/pypoetry/virtualenvs/zmio-BbFn6q4X-py3.10/lib/python3.10/site-packages/aima3/agents.py:944\u001B[0m, in \u001B[0;36mcompare_agents\u001B[0;34m(EnvFactory, AgentFactories, n, steps)\u001B[0m\n\u001B[1;32m    939\u001B[0m \u001B[38;5;28;01mdef\u001B[39;00m \u001B[38;5;21mcompare_agents\u001B[39m(EnvFactory, AgentFactories, n\u001B[38;5;241m=\u001B[39m\u001B[38;5;241m10\u001B[39m, steps\u001B[38;5;241m=\u001B[39m\u001B[38;5;241m1000\u001B[39m):\n\u001B[1;32m    940\u001B[0m \u001B[38;5;250m    \u001B[39m\u001B[38;5;124;03m\"\"\"See how well each of several agents do in n instances of an environment.\u001B[39;00m\n\u001B[1;32m    941\u001B[0m \u001B[38;5;124;03m    Pass in a factory (constructor) for environments, and several for agents.\u001B[39;00m\n\u001B[1;32m    942\u001B[0m \u001B[38;5;124;03m    Create n instances of the environment, and run each agent in copies of\u001B[39;00m\n\u001B[1;32m    943\u001B[0m \u001B[38;5;124;03m    each one for steps. Return a list of (agent, average-score) tuples.\"\"\"\u001B[39;00m\n\u001B[0;32m--> 944\u001B[0m     envs \u001B[38;5;241m=\u001B[39m [EnvFactory() \u001B[38;5;28;01mfor\u001B[39;00m i \u001B[38;5;129;01min\u001B[39;00m \u001B[38;5;28mrange\u001B[39m(n)]\n\u001B[1;32m    945\u001B[0m     \u001B[38;5;28;01mreturn\u001B[39;00m [(A, test_agent(A, steps, copy\u001B[38;5;241m.\u001B[39mdeepcopy(envs)))\n\u001B[1;32m    946\u001B[0m             \u001B[38;5;28;01mfor\u001B[39;00m A \u001B[38;5;129;01min\u001B[39;00m AgentFactories]\n",
      "File \u001B[0;32m~/.cache/pypoetry/virtualenvs/zmio-BbFn6q4X-py3.10/lib/python3.10/site-packages/aima3/agents.py:944\u001B[0m, in \u001B[0;36m<listcomp>\u001B[0;34m(.0)\u001B[0m\n\u001B[1;32m    939\u001B[0m \u001B[38;5;28;01mdef\u001B[39;00m \u001B[38;5;21mcompare_agents\u001B[39m(EnvFactory, AgentFactories, n\u001B[38;5;241m=\u001B[39m\u001B[38;5;241m10\u001B[39m, steps\u001B[38;5;241m=\u001B[39m\u001B[38;5;241m1000\u001B[39m):\n\u001B[1;32m    940\u001B[0m \u001B[38;5;250m    \u001B[39m\u001B[38;5;124;03m\"\"\"See how well each of several agents do in n instances of an environment.\u001B[39;00m\n\u001B[1;32m    941\u001B[0m \u001B[38;5;124;03m    Pass in a factory (constructor) for environments, and several for agents.\u001B[39;00m\n\u001B[1;32m    942\u001B[0m \u001B[38;5;124;03m    Create n instances of the environment, and run each agent in copies of\u001B[39;00m\n\u001B[1;32m    943\u001B[0m \u001B[38;5;124;03m    each one for steps. Return a list of (agent, average-score) tuples.\"\"\"\u001B[39;00m\n\u001B[0;32m--> 944\u001B[0m     envs \u001B[38;5;241m=\u001B[39m [\u001B[43mEnvFactory\u001B[49m\u001B[43m(\u001B[49m\u001B[43m)\u001B[49m \u001B[38;5;28;01mfor\u001B[39;00m i \u001B[38;5;129;01min\u001B[39;00m \u001B[38;5;28mrange\u001B[39m(n)]\n\u001B[1;32m    945\u001B[0m     \u001B[38;5;28;01mreturn\u001B[39;00m [(A, test_agent(A, steps, copy\u001B[38;5;241m.\u001B[39mdeepcopy(envs)))\n\u001B[1;32m    946\u001B[0m             \u001B[38;5;28;01mfor\u001B[39;00m A \u001B[38;5;129;01min\u001B[39;00m AgentFactories]\n",
      "Cell \u001B[0;32mIn[21], line 34\u001B[0m, in \u001B[0;36menv_factory\u001B[0;34m()\u001B[0m\n\u001B[1;32m     33\u001B[0m \u001B[38;5;28;01mdef\u001B[39;00m \u001B[38;5;21menv_factory\u001B[39m():\n\u001B[0;32m---> 34\u001B[0m     \u001B[38;5;28;01mreturn\u001B[39;00m \u001B[43mTrivialVacuumEnvironmentWithCats\u001B[49m\u001B[43m(\u001B[49m\u001B[43mrandom_dirt_prob\u001B[49m\u001B[38;5;241;43m=\u001B[39;49m\u001B[38;5;241;43m0.05\u001B[39;49m\u001B[43m)\u001B[49m\n",
      "Cell \u001B[0;32mIn[11], line 9\u001B[0m, in \u001B[0;36mTrivialVacuumEnvironmentWithCats.__init__\u001B[0;34m(self, random_dirt_prob, seed)\u001B[0m\n\u001B[1;32m      7\u001B[0m \u001B[38;5;28;01mdef\u001B[39;00m \u001B[38;5;21m__init__\u001B[39m(\u001B[38;5;28mself\u001B[39m, random_dirt_prob\u001B[38;5;241m=\u001B[39m\u001B[38;5;241m0.05\u001B[39m, seed\u001B[38;5;241m=\u001B[39m\u001B[38;5;28;01mNone\u001B[39;00m):\n\u001B[1;32m      8\u001B[0m     \u001B[38;5;28msuper\u001B[39m(TrivialVacuumEnvironmentWithCats, \u001B[38;5;28mself\u001B[39m)\u001B[38;5;241m.\u001B[39m\u001B[38;5;21m__init__\u001B[39m()\n\u001B[0;32m----> 9\u001B[0m     \u001B[38;5;28mself\u001B[39m\u001B[38;5;241m.\u001B[39mrandom \u001B[38;5;241m=\u001B[39m \u001B[43mrandom\u001B[49m\u001B[38;5;241;43m.\u001B[39;49m\u001B[43mRandom\u001B[49m\u001B[43m(\u001B[49m\u001B[43mseed\u001B[49m\u001B[43m)\u001B[49m\n\u001B[1;32m     10\u001B[0m     \u001B[38;5;28mself\u001B[39m\u001B[38;5;241m.\u001B[39mrandom_dirt_prob \u001B[38;5;241m=\u001B[39m random_dirt_prob\n",
      "File \u001B[0;32m/usr/lib/python3.10/random.py:119\u001B[0m, in \u001B[0;36mRandom.__init__\u001B[0;34m(self, x)\u001B[0m\n\u001B[1;32m    104\u001B[0m \u001B[38;5;250m\u001B[39m\u001B[38;5;124;03m\"\"\"Random number generator base class used by bound module functions.\u001B[39;00m\n\u001B[1;32m    105\u001B[0m \n\u001B[1;32m    106\u001B[0m \u001B[38;5;124;03mUsed to instantiate instances of Random to get generators that don't\u001B[39;00m\n\u001B[0;32m   (...)\u001B[0m\n\u001B[1;32m    114\u001B[0m \n\u001B[1;32m    115\u001B[0m \u001B[38;5;124;03m\"\"\"\u001B[39;00m\n\u001B[1;32m    117\u001B[0m VERSION \u001B[38;5;241m=\u001B[39m \u001B[38;5;241m3\u001B[39m     \u001B[38;5;66;03m# used by getstate/setstate\u001B[39;00m\n\u001B[0;32m--> 119\u001B[0m \u001B[38;5;28;01mdef\u001B[39;00m \u001B[38;5;21m__init__\u001B[39m(\u001B[38;5;28mself\u001B[39m, x\u001B[38;5;241m=\u001B[39m\u001B[38;5;28;01mNone\u001B[39;00m):\n\u001B[1;32m    120\u001B[0m \u001B[38;5;250m    \u001B[39m\u001B[38;5;124;03m\"\"\"Initialize an instance.\u001B[39;00m\n\u001B[1;32m    121\u001B[0m \n\u001B[1;32m    122\u001B[0m \u001B[38;5;124;03m    Optional argument x controls seeding, as for Random.seed().\u001B[39;00m\n\u001B[1;32m    123\u001B[0m \u001B[38;5;124;03m    \"\"\"\u001B[39;00m\n\u001B[1;32m    125\u001B[0m     \u001B[38;5;28mself\u001B[39m\u001B[38;5;241m.\u001B[39mseed(x)\n",
      "\u001B[0;31mKeyboardInterrupt\u001B[0m: "
     ]
    }
   ],
   "source": [
    "def calculate_chance(times_uncleared):\n",
    "    return 0.95**times_uncleared\n",
    "\n",
    "for val in range(20):\n",
    "    print(val)\n",
    "\n",
    "    def MyVacuumAgent():\n",
    "        step = 0\n",
    "        i = val\n",
    "\n",
    "        def program(percept):\n",
    "            # Zwróć jedną z dostępnych akcji: {'Suck', 'Right', 'Left', 'NoOP'}\n",
    "            nonlocal i, step\n",
    "            step += 1\n",
    "            location, status = percept\n",
    "            if status == 'Dirty':\n",
    "                return 'Suck'\n",
    "            elif step == 49:\n",
    "                return 'Right' if location == loc_A else 'Left'\n",
    "            elif location == loc_A and i == 0:\n",
    "                i = val\n",
    "                return 'Right'\n",
    "            elif location == loc_B and i == 0:\n",
    "                i = val\n",
    "                return 'Left'\n",
    "            else:\n",
    "                i -= 1\n",
    "                return 'NoOP'\n",
    "\n",
    "        return Agent(program)\n",
    "\n",
    "\n",
    "    def env_factory():\n",
    "        return TrivialVacuumEnvironmentWithCats(random_dirt_prob=0.05)\n",
    "\n",
    "\n",
    "    print(compare_agents(env_factory, [MyVacuumAgent], 50000, 50))"
   ],
   "metadata": {
    "collapsed": false
   }
  }
 ],
 "metadata": {
  "kernelspec": {
   "display_name": "Python 3",
   "language": "python",
   "name": "python3"
  },
  "language_info": {
   "codemirror_mode": {
    "name": "ipython",
    "version": 3
   },
   "file_extension": ".py",
   "mimetype": "text/x-python",
   "name": "python",
   "nbconvert_exporter": "python",
   "pygments_lexer": "ipython3",
   "version": "3.8.5"
  }
 },
 "nbformat": 4,
 "nbformat_minor": 4
}
